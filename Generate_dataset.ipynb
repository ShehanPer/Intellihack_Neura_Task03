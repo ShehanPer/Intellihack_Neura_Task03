{
  "cells": [
    {
      "cell_type": "code",
      "execution_count": null,
      "metadata": {
        "colab": {
          "base_uri": "https://localhost:8080/"
        },
        "id": "yVnwUkYAl2S5",
        "outputId": "025e3c7d-35cc-4cc0-cd0e-f251b1a89c12"
      },
      "outputs": [],
      "source": [
        "!pip install fitz\n",
        "!pip install pymupdf"
      ]
    },
    {
      "cell_type": "markdown",
      "metadata": {},
      "source": [
        "### Generating Raw Data"
      ]
    },
    {
      "cell_type": "code",
      "execution_count": null,
      "metadata": {
        "id": "t1kkhIFFnZ_s"
      },
      "outputs": [],
      "source": [
        "import fitz  \n",
        "import markdown\n",
        "import glob\n",
        "import re\n",
        "def extract_text_from_pdf(pdf_path):\n",
        "    doc = fitz.open(pdf_path)\n",
        "    text = \"\\n\".join([page.get_text(\"text\") for page in doc])\n",
        "    # Replace unwanted characters\n",
        "    text = re.sub(r\"</?ol>\", \"\", text)  # Remove </ol> and <ol>\n",
        "    text = re.sub(r\"</?p>\", \"\", text)   # Remove </p> and <p>\n",
        "    text = re.sub(r\"<h1>.*?</h1>\", \"\", text) # Remove <h1> tags and content\n",
        "    return text\n",
        "\n",
        "def extract_text_from_md(md_path):\n",
        "    with open(md_path, \"r\", encoding=\"utf-8\") as f:\n",
        "        content = f.read()\n",
        "    text = markdown.markdown(content)\n",
        "    # Replace unwanted characters (apply same replacements as PDF)\n",
        "    text = re.sub(r\"</?ol>\", \"\", text)\n",
        "    text = re.sub(r\"</?p>\", \"\", text)\n",
        "    text = re.sub(r\"<h1>.*?</h1>\", \"\", text)\n",
        "    return text\n",
        "\n",
        "# Load all PDFs and Markdown files\n",
        "pdf_files = glob.glob(\"data/*.pdf\")\n",
        "md_files = glob.glob(\"data/*.md\")\n",
        "\n",
        "documents = []\n",
        "for file in pdf_files:\n",
        "    documents.append(extract_text_from_pdf(file))\n",
        "for file in md_files:\n",
        "    documents.append(extract_text_from_md(file))"
      ]
    },
    {
      "cell_type": "markdown",
      "metadata": {},
      "source": [
        "### Generate Chunks"
      ]
    },
    {
      "cell_type": "code",
      "execution_count": null,
      "metadata": {
        "colab": {
          "base_uri": "https://localhost:8080/"
        },
        "id": "zPxG9Reun9H9",
        "outputId": "cd03c5d0-dc87-4a1e-dfe0-341e09d2e678"
      },
      "outputs": [],
      "source": [
        "!pip install nltk"
      ]
    },
    {
      "cell_type": "code",
      "execution_count": null,
      "metadata": {
        "id": "TKg4duY9oIno"
      },
      "outputs": [],
      "source": [
        "import nltk\n",
        "from nltk.tokenize import sent_tokenize\n",
        "\n",
        "# Download the Punkt tokenizer model for sentence tokenization\n",
        "nltk.download('punkt_tab')\n",
        "\n",
        "# Define the function to split documents into smaller chunks\n",
        "def split_documents(documents, max_length=256):\n",
        "    chunks = []\n",
        "    for doc in documents:\n",
        "        sentences = sent_tokenize(doc)  # Tokenize the document into sentences\n",
        "        chunk = \"\"\n",
        "        for sentence in sentences:\n",
        "            if len(chunk) + len(sentence) <= max_length:\n",
        "                chunk += sentence + \" \"\n",
        "            else:\n",
        "                chunks.append(chunk.strip())\n",
        "                chunk = sentence + \" \"\n",
        "        if chunk:\n",
        "            chunks.append(chunk.strip())\n",
        "    return chunks\n",
        "\n",
        "def preprocess_chunk(chunk):\n",
        "    chunk = chunk.strip()                    \n",
        "    chunk = chunk.replace(\"\\n\", \" \")    \n",
        "    return chunk\n",
        "\n",
        "chunks = split_documents(documents)\n",
        "\n",
        "#for i, chunk in enumerate(chunks):\n",
        "#    print(f\"Chunk {i + 1}: {chunk}\")\n",
        "\n",
        "chunks = [preprocess_chunk(chunk) for chunk in chunks]"
      ]
    },
    {
      "cell_type": "markdown",
      "metadata": {},
      "source": [
        "### Generating Questions and Answers"
      ]
    },
    {
      "cell_type": "code",
      "execution_count": null,
      "metadata": {
        "id": "TUAjGnMsp-eW"
      },
      "outputs": [],
      "source": [
        "!pip install transformers"
      ]
    },
    {
      "cell_type": "code",
      "execution_count": null,
      "metadata": {
        "id": "HIsWJMAQquNU"
      },
      "outputs": [],
      "source": [
        "from transformers import pipeline\n",
        "\n",
        "# Initialize the pipelines\n",
        "question_generator = pipeline(\"text2text-generation\", model=\"valhalla/t5-base-qg-hl\")\n",
        "qa_extractor = pipeline(\"question-answering\", model=\"distilbert-base-cased-distilled-squad\")\n",
        "\n",
        "\n",
        "# Process each context chunk to generate questions and extract answers\n",
        "dataset= []  # List to hold QA pairs\n",
        "for context in chunks:\n",
        "    # Step 1: Generate questions\n",
        "    question = question_generator(f\"Generate questions from: {context}\")[0][\"generated_text\"] \n",
        "    # Step 2: Extract answers for each question\n",
        "    answer = qa_extractor(question=question, context=context)\n",
        "    dataset.append({\"context\":context,\"question\": question, \"answer\": answer[\"answer\"]})\n",
        "\n",
        "\n",
        "# for item in dataset:                                    # Display the QA pairs for each chunk\n",
        "#     print(f\"Q: {item['question']}\")\n",
        "#     print(f\"A: {item['answer']}\")\n"
      ]
    },
    {
      "cell_type": "code",
      "execution_count": null,
      "metadata": {
        "colab": {
          "base_uri": "https://localhost:8080/"
        },
        "id": "gD90on_49z9S",
        "outputId": "c0f3db93-6fea-4b45-ecf7-eab2b7bc7650"
      },
      "outputs": [],
      "source": [
        "print(len(qa_pairs_per_chunk[1]))\n",
        "print(len(chunks))"
      ]
    },
    {
      "cell_type": "code",
      "execution_count": null,
      "metadata": {
        "id": "mXYv-0b584WC"
      },
      "outputs": [],
      "source": [
        "dataset=[]\n",
        "for i in range(len(qa_pairs_per_chunk)):\n",
        "    dataset.append({\"context\":chunks[i],\"question\":qa_pairs_per_chunk[i][0]['question'],\"answer\":qa_pairs_per_chunk[i][0]['answer']})"
      ]
    },
    {
      "cell_type": "code",
      "execution_count": null,
      "metadata": {
        "colab": {
          "base_uri": "https://localhost:8080/"
        },
        "id": "sOFa4fR2s04h",
        "outputId": "09b92e92-53cd-49ca-be77-364e29bfd22f"
      },
      "outputs": [],
      "source": [
        "print(len(dataset))"
      ]
    },
    {
      "cell_type": "code",
      "execution_count": null,
      "metadata": {
        "id": "uJpKy-FY_1Cq"
      },
      "outputs": [],
      "source": [
        "import json\n",
        "\n",
        "with open(\"output.json\", \"w\") as file:\n",
        "    json.dump(dataset, file)\n"
      ]
    },
    {
      "cell_type": "code",
      "execution_count": null,
      "metadata": {
        "colab": {
          "base_uri": "https://localhost:8080/"
        },
        "id": "ONwh1XPYAfzl",
        "outputId": "420e6f81-bc3a-4f6a-ee41-ce06ff41ff86"
      },
      "outputs": [],
      "source": [
        "print(len(documents))"
      ]
    },
    {
      "cell_type": "code",
      "execution_count": 1,
      "metadata": {},
      "outputs": [
        {
          "name": "stdout",
          "output_type": "stream",
          "text": [
            "2.5.1\n"
          ]
        }
      ],
      "source": [
        "import torch\n",
        "print(torch.__version__)\n"
      ]
    },
    {
      "cell_type": "code",
      "execution_count": 2,
      "metadata": {},
      "outputs": [
        {
          "name": "stdout",
          "output_type": "stream",
          "text": [
            "GPU: NVIDIA GeForce RTX 2050 is available.\n"
          ]
        }
      ],
      "source": [
        "import torch\n",
        "if torch.cuda.is_available():\n",
        "    print(f\"GPU: {torch.cuda.get_device_name(0)} is available.\")\n",
        "else:\n",
        "    print(\"No GPU available. Training will run on CPU.\")"
      ]
    },
    {
      "cell_type": "code",
      "execution_count": 3,
      "metadata": {},
      "outputs": [
        {
          "name": "stderr",
          "output_type": "stream",
          "text": [
            "e:\\ML\\envs\\llm\\lib\\site-packages\\tqdm\\auto.py:21: TqdmWarning: IProgress not found. Please update jupyter and ipywidgets. See https://ipywidgets.readthedocs.io/en/stable/user_install.html\n",
            "  from .autonotebook import tqdm as notebook_tqdm\n"
          ]
        }
      ],
      "source": [
        "import transformers"
      ]
    }
  ],
  "metadata": {
    "accelerator": "GPU",
    "colab": {
      "gpuType": "T4",
      "provenance": []
    },
    "kernelspec": {
      "display_name": "llm",
      "language": "python",
      "name": "python3"
    },
    "language_info": {
      "codemirror_mode": {
        "name": "ipython",
        "version": 3
      },
      "file_extension": ".py",
      "mimetype": "text/x-python",
      "name": "python",
      "nbconvert_exporter": "python",
      "pygments_lexer": "ipython3",
      "version": "3.10.16"
    }
  },
  "nbformat": 4,
  "nbformat_minor": 0
}
